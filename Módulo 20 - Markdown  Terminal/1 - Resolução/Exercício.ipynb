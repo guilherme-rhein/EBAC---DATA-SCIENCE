{
 "cells": [
  {
   "cell_type": "markdown",
   "id": "795336d7-2291-4175-91e7-30888a6ff55c",
   "metadata": {},
   "source": [
    "<img src=\"ebac_logo-data_science.png\" alt=\"Logotipo: Cientista de dados da Ebac\">\n",
    "\n",
    "---\n",
    "\n",
    "**Nome do Aluno:** [Guilherme N. Rhein](https://www.linkedin.com/in/guilherme-rhein/)<br>\n",
    "\n",
    "---"
   ]
  },
  {
   "cell_type": "markdown",
   "id": "82aad570-d929-4f8b-bf25-d92fb0d4b348",
   "metadata": {},
   "source": [
    "# Objetivo"
   ]
  },
  {
   "cell_type": "markdown",
   "id": "2559310b-d88d-4375-a124-78432bdd2fa4",
   "metadata": {},
   "source": [
    "### Reproduzir a imagem abaixo, utilizando markdown e LaTeX:"
   ]
  },
  {
   "cell_type": "markdown",
   "id": "2833d368-8e08-42e1-9947-06808dafdb0f",
   "metadata": {},
   "source": [
    "<a href=\"https://www.educamaisbrasil.com.br/enem/matematica/formula-de-bhaskara\" title=\"Clique na imagem para ser direcionado ao site\"> \n",
    "    <img src=\"Tarefa2.png\" alt=\"Objetivo do trabalho\">\n",
    "</a>"
   ]
  },
  {
   "cell_type": "markdown",
   "id": "6f031643-82ae-4b25-a137-852f7a811689",
   "metadata": {},
   "source": [
    "<div style=\"font-family: 'Montserrat',Helvetica, Arial,sans-serif; font-size:18px\">\n",
    "    <h2 style=\"color:#2e5574\">Fórmula de Bhaskara</h2>\n",
    "    <br>\n",
    "    <p>A solução para uma função de segundo grau depende das suas raízes (valores de x). Como já vimos, os coeficientes precisam ser números reais e o angular diferente de zero. Sendo assim, temos a seguinte fórmula de Bhaskara:</p>\n",
    "    <br>\n",
    "    $$x = \\dfrac{-b \\pm \\sqrt{b^2-4.a.c}}{2.a}$$\n",
    "    <br>\n",
    "    <p style=\"text-align:center\"><i>Fórmula de Bhaskara.</i></p>\n",
    "    <p>Para melhor compreensão o seu cálculo é dividido em duas partes: discriminante da equação e operações para determinar as raízes.</p>\n",
    "    <br>\n",
    "    <p><b>Discriminante</b></p>\n",
    "    <br>\n",
    "    <p>A figura dentro da raiz na fórmula de Bhaskara é nomeada de discriminante. Seu símbolo é a letra grega delta e apresenta a determinada fórmula:</p>\n",
    "    <br>\n",
    "    $$\\Delta = b^2-4.a.c$$\n",
    "    <p style=\"text-align:center\"><i>Fórmula da discriminante.</i></p>\n",
    "    <br>\n",
    "    \n",
    "- Se o delta for maior que zero, a equação terá dois valores reais e distintos.\n",
    "- Se o delta for igual a zero, a equação terá somente um valor real ou dois resultados iguais.\n",
    "- Se o delta for menor que zero, a equação não possuirá valores reais.\n",
    "    \n",
    "</div>"
   ]
  },
  {
   "cell_type": "markdown",
   "id": "d64b9894-8daa-4c29-bd02-cc9822b30df6",
   "metadata": {},
   "source": [
    "# Código Utilizado:\n",
    "\n",
    "\n",
    "```markdown\n",
    "\n",
    "<div style=\"font-family: 'Montserrat',Helvetica, Arial,sans-serif; font-size:18px\">\n",
    "    <h2 style=\"color:#2e5574\">Fórmula de Bhaskara</h2>\n",
    "    <br>\n",
    "    <p>A solução para uma função de segundo grau depende das suas raízes (valores de x). Como já vimos, os coeficientes precisam ser números reais e o angular diferente de zero. Sendo assim, temos a seguinte fórmula de Bhaskara:</p>\n",
    "    <br>\n",
    "    $$x = \\dfrac{-b \\pm \\sqrt{b^2-4.a.c}}{2.a}$$\n",
    "    <br>\n",
    "    <p style=\"text-align:center\"><i>Fórmula de Bhaskara.</i></p>\n",
    "    <p>Para melhor compreensão o seu cálculo é dividido em duas partes: discriminante da equação e operações para determinar as raízes.</p>\n",
    "    <br>\n",
    "    <p><b>Discriminante</b></p>\n",
    "    <br>\n",
    "    <p>A figura dentro da raiz na fórmula de Bhaskara é nomeada de discriminante. Seu símbolo é a letra grega delta e apresenta a determinada fórmula:</p>\n",
    "    <br>\n",
    "    $$\\Delta = b^2-4.a.c$$\n",
    "    <p style=\"text-align:center\"><i>Fórmula da discriminante.</i></p>\n",
    "    <br>\n",
    "    \n",
    "- Se o delta for maior que zero, a equação terá dois valores reais e distintos.\n",
    "- Se o delta for igual a zero, a equação terá somente um valor real ou dois resultados iguais.\n",
    "- Se o delta for menor que zero, a equação não possuirá valores reais.\n",
    "    \n",
    "</div>\n",
    "```"
   ]
  },
  {
   "cell_type": "code",
   "execution_count": null,
   "id": "da8a97f3-ffbd-49bd-ae21-bc609a015975",
   "metadata": {},
   "outputs": [],
   "source": []
  },
  {
   "cell_type": "code",
   "execution_count": null,
   "id": "dfd17da9-88de-4160-b3b8-0c3278100619",
   "metadata": {},
   "outputs": [],
   "source": []
  }
 ],
 "metadata": {
  "kernelspec": {
   "display_name": "Python 3 (ipykernel)",
   "language": "python",
   "name": "python3"
  },
  "language_info": {
   "codemirror_mode": {
    "name": "ipython",
    "version": 3
   },
   "file_extension": ".py",
   "mimetype": "text/x-python",
   "name": "python",
   "nbconvert_exporter": "python",
   "pygments_lexer": "ipython3",
   "version": "3.11.5"
  }
 },
 "nbformat": 4,
 "nbformat_minor": 5
}
