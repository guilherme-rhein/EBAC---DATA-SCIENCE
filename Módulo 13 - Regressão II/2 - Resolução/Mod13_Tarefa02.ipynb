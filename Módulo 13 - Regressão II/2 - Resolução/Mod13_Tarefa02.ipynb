{
 "cells": [
  {
   "cell_type": "markdown",
   "metadata": {},
   "source": [
    "# EBAC - Regressão II - regressão múltipla\n",
    "\n",
    "## Tarefa I"
   ]
  },
  {
   "cell_type": "markdown",
   "metadata": {},
   "source": [
    "#### Previsão de renda II\n",
    "\n",
    "Vamos continuar trabalhando com a base 'previsao_de_renda.csv', que é a base do seu próximo projeto. Vamos usar os recursos que vimos até aqui nesta base.\n",
    "\n",
    "|variavel|descrição|\n",
    "|-|-|\n",
    "|data_ref                | Data de referência de coleta das variáveis |\n",
    "|index                   | Código de identificação do cliente|\n",
    "|sexo                    | Sexo do cliente|\n",
    "|posse_de_veiculo        | Indica se o cliente possui veículo|\n",
    "|posse_de_imovel         | Indica se o cliente possui imóvel|\n",
    "|qtd_filhos              | Quantidade de filhos do cliente|\n",
    "|tipo_renda              | Tipo de renda do cliente|\n",
    "|educacao                | Grau de instrução do cliente|\n",
    "|estado_civil            | Estado civil do cliente|\n",
    "|tipo_residencia         | Tipo de residência do cliente (própria, alugada etc)|\n",
    "|idade                   | Idade do cliente|\n",
    "|tempo_emprego           | Tempo no emprego atual|\n",
    "|qt_pessoas_residencia   | Quantidade de pessoas que moram na residência|\n",
    "|renda                   | Renda em reais|"
   ]
  },
  {
   "cell_type": "markdown",
   "metadata": {},
   "source": [
    "1. Separe a base em treinamento e teste (25% para teste, 75% para treinamento).\n",
    "2. Rode uma regularização *ridge* com alpha = [0, 0.001, 0.005, 0.01, 0.05, 0.1] e avalie o $R^2$ na base de testes. Qual o melhor modelo?\n",
    "3. Faça o mesmo que no passo 2, com uma regressão *LASSO*. Qual método chega a um melhor resultado?\n",
    "4. Rode um modelo *stepwise*. Avalie o $R^2$ na base de testes. Qual o melhor resultado?\n",
    "5. Compare os parâmetros e avalie eventuais diferenças. Qual modelo você acha o melhor de todos?\n",
    "6. Partindo dos modelos que você ajustou, tente melhorar o $R^2$ na base de testes. Use a criatividade, veja se consegue inserir alguma transformação ou combinação de variáveis.\n",
    "7. Ajuste uma árvore de regressão e veja se consegue um $R^2$ melhor com ela."
   ]
  },
  {
   "cell_type": "code",
   "execution_count": 229,
   "metadata": {},
   "outputs": [],
   "source": [
    "from sklearn.model_selection import train_test_split\n",
    "from sklearn.tree import DecisionTreeRegressor\n",
    "import statsmodels.formula.api as smf\n",
    "from sklearn.metrics import r2_score\n",
    "import statsmodels.api as sm   \n",
    "import patsy\n",
    "import matplotlib.pyplot as plt\n",
    "import seaborn as sns\n",
    "import pandas as pd\n",
    "import numpy as np\n",
    "\n",
    "\n",
    "import warnings\n",
    "\n",
    "# Ignorar FutureWarnings específicos\n",
    "warnings.filterwarnings(\"ignore\", category=FutureWarning, module=\"sklearn.utils.validation\")"
   ]
  },
  {
   "cell_type": "markdown",
   "metadata": {},
   "source": [
    "**Importando dados e organizando informações relevantes:**<br>\n",
    "**Importing data and organizing relevant information:**\n"
   ]
  },
  {
   "cell_type": "code",
   "execution_count": 230,
   "metadata": {},
   "outputs": [
    {
     "name": "stdout",
     "output_type": "stream",
     "text": [
      "<class 'pandas.core.frame.DataFrame'>\n",
      "RangeIndex: 15000 entries, 0 to 14999\n",
      "Data columns (total 15 columns):\n",
      " #   Column                 Non-Null Count  Dtype  \n",
      "---  ------                 --------------  -----  \n",
      " 0   Unnamed: 0             15000 non-null  int64  \n",
      " 1   data_ref               15000 non-null  object \n",
      " 2   id_cliente             15000 non-null  int64  \n",
      " 3   sexo                   15000 non-null  object \n",
      " 4   posse_de_veiculo       15000 non-null  bool   \n",
      " 5   posse_de_imovel        15000 non-null  bool   \n",
      " 6   qtd_filhos             15000 non-null  int64  \n",
      " 7   tipo_renda             15000 non-null  object \n",
      " 8   educacao               15000 non-null  object \n",
      " 9   estado_civil           15000 non-null  object \n",
      " 10  tipo_residencia        15000 non-null  object \n",
      " 11  idade                  15000 non-null  int64  \n",
      " 12  tempo_emprego          12427 non-null  float64\n",
      " 13  qt_pessoas_residencia  15000 non-null  float64\n",
      " 14  renda                  15000 non-null  float64\n",
      "dtypes: bool(2), float64(3), int64(4), object(6)\n",
      "memory usage: 1.5+ MB\n"
     ]
    }
   ],
   "source": [
    "df = pd.read_csv('previsao_de_renda.csv')\n",
    "df.info()"
   ]
  },
  {
   "cell_type": "code",
   "execution_count": 231,
   "metadata": {},
   "outputs": [
    {
     "data": {
      "text/html": [
       "<div>\n",
       "<style scoped>\n",
       "    .dataframe tbody tr th:only-of-type {\n",
       "        vertical-align: middle;\n",
       "    }\n",
       "\n",
       "    .dataframe tbody tr th {\n",
       "        vertical-align: top;\n",
       "    }\n",
       "\n",
       "    .dataframe thead th {\n",
       "        text-align: right;\n",
       "    }\n",
       "</style>\n",
       "<table border=\"1\" class=\"dataframe\">\n",
       "  <thead>\n",
       "    <tr style=\"text-align: right;\">\n",
       "      <th></th>\n",
       "      <th>sexo</th>\n",
       "      <th>posse_de_veiculo</th>\n",
       "      <th>posse_de_imovel</th>\n",
       "      <th>qtd_filhos</th>\n",
       "      <th>tipo_renda</th>\n",
       "      <th>educacao</th>\n",
       "      <th>estado_civil</th>\n",
       "      <th>tipo_residencia</th>\n",
       "      <th>idade</th>\n",
       "      <th>tempo_emprego</th>\n",
       "      <th>qt_pessoas_residencia</th>\n",
       "      <th>renda</th>\n",
       "    </tr>\n",
       "  </thead>\n",
       "  <tbody>\n",
       "    <tr>\n",
       "      <th>0</th>\n",
       "      <td>F</td>\n",
       "      <td>False</td>\n",
       "      <td>True</td>\n",
       "      <td>0</td>\n",
       "      <td>Empresário</td>\n",
       "      <td>Secundário</td>\n",
       "      <td>Solteiro</td>\n",
       "      <td>Casa</td>\n",
       "      <td>26</td>\n",
       "      <td>6.602740</td>\n",
       "      <td>1.0</td>\n",
       "      <td>8060.34</td>\n",
       "    </tr>\n",
       "    <tr>\n",
       "      <th>1</th>\n",
       "      <td>M</td>\n",
       "      <td>True</td>\n",
       "      <td>True</td>\n",
       "      <td>0</td>\n",
       "      <td>Assalariado</td>\n",
       "      <td>Superior completo</td>\n",
       "      <td>Casado</td>\n",
       "      <td>Casa</td>\n",
       "      <td>28</td>\n",
       "      <td>7.183562</td>\n",
       "      <td>2.0</td>\n",
       "      <td>1852.15</td>\n",
       "    </tr>\n",
       "    <tr>\n",
       "      <th>2</th>\n",
       "      <td>F</td>\n",
       "      <td>True</td>\n",
       "      <td>True</td>\n",
       "      <td>0</td>\n",
       "      <td>Empresário</td>\n",
       "      <td>Superior completo</td>\n",
       "      <td>Casado</td>\n",
       "      <td>Casa</td>\n",
       "      <td>35</td>\n",
       "      <td>0.838356</td>\n",
       "      <td>2.0</td>\n",
       "      <td>2253.89</td>\n",
       "    </tr>\n",
       "    <tr>\n",
       "      <th>3</th>\n",
       "      <td>F</td>\n",
       "      <td>False</td>\n",
       "      <td>True</td>\n",
       "      <td>1</td>\n",
       "      <td>Servidor público</td>\n",
       "      <td>Superior completo</td>\n",
       "      <td>Casado</td>\n",
       "      <td>Casa</td>\n",
       "      <td>30</td>\n",
       "      <td>4.846575</td>\n",
       "      <td>3.0</td>\n",
       "      <td>6600.77</td>\n",
       "    </tr>\n",
       "    <tr>\n",
       "      <th>4</th>\n",
       "      <td>M</td>\n",
       "      <td>True</td>\n",
       "      <td>False</td>\n",
       "      <td>0</td>\n",
       "      <td>Assalariado</td>\n",
       "      <td>Secundário</td>\n",
       "      <td>Solteiro</td>\n",
       "      <td>Governamental</td>\n",
       "      <td>33</td>\n",
       "      <td>4.293151</td>\n",
       "      <td>1.0</td>\n",
       "      <td>6475.97</td>\n",
       "    </tr>\n",
       "    <tr>\n",
       "      <th>...</th>\n",
       "      <td>...</td>\n",
       "      <td>...</td>\n",
       "      <td>...</td>\n",
       "      <td>...</td>\n",
       "      <td>...</td>\n",
       "      <td>...</td>\n",
       "      <td>...</td>\n",
       "      <td>...</td>\n",
       "      <td>...</td>\n",
       "      <td>...</td>\n",
       "      <td>...</td>\n",
       "      <td>...</td>\n",
       "    </tr>\n",
       "    <tr>\n",
       "      <th>14995</th>\n",
       "      <td>F</td>\n",
       "      <td>False</td>\n",
       "      <td>True</td>\n",
       "      <td>0</td>\n",
       "      <td>Empresário</td>\n",
       "      <td>Secundário</td>\n",
       "      <td>Solteiro</td>\n",
       "      <td>Casa</td>\n",
       "      <td>48</td>\n",
       "      <td>13.887671</td>\n",
       "      <td>1.0</td>\n",
       "      <td>7990.58</td>\n",
       "    </tr>\n",
       "    <tr>\n",
       "      <th>14996</th>\n",
       "      <td>F</td>\n",
       "      <td>False</td>\n",
       "      <td>True</td>\n",
       "      <td>0</td>\n",
       "      <td>Pensionista</td>\n",
       "      <td>Superior completo</td>\n",
       "      <td>Solteiro</td>\n",
       "      <td>Casa</td>\n",
       "      <td>57</td>\n",
       "      <td>NaN</td>\n",
       "      <td>1.0</td>\n",
       "      <td>10093.45</td>\n",
       "    </tr>\n",
       "    <tr>\n",
       "      <th>14997</th>\n",
       "      <td>F</td>\n",
       "      <td>True</td>\n",
       "      <td>True</td>\n",
       "      <td>0</td>\n",
       "      <td>Assalariado</td>\n",
       "      <td>Superior completo</td>\n",
       "      <td>Casado</td>\n",
       "      <td>Casa</td>\n",
       "      <td>45</td>\n",
       "      <td>7.832877</td>\n",
       "      <td>2.0</td>\n",
       "      <td>604.82</td>\n",
       "    </tr>\n",
       "    <tr>\n",
       "      <th>14998</th>\n",
       "      <td>M</td>\n",
       "      <td>True</td>\n",
       "      <td>False</td>\n",
       "      <td>0</td>\n",
       "      <td>Empresário</td>\n",
       "      <td>Superior completo</td>\n",
       "      <td>Casado</td>\n",
       "      <td>Casa</td>\n",
       "      <td>36</td>\n",
       "      <td>4.298630</td>\n",
       "      <td>2.0</td>\n",
       "      <td>3352.27</td>\n",
       "    </tr>\n",
       "    <tr>\n",
       "      <th>14999</th>\n",
       "      <td>F</td>\n",
       "      <td>False</td>\n",
       "      <td>True</td>\n",
       "      <td>2</td>\n",
       "      <td>Servidor público</td>\n",
       "      <td>Secundário</td>\n",
       "      <td>União</td>\n",
       "      <td>Casa</td>\n",
       "      <td>34</td>\n",
       "      <td>7.219178</td>\n",
       "      <td>4.0</td>\n",
       "      <td>1160.99</td>\n",
       "    </tr>\n",
       "  </tbody>\n",
       "</table>\n",
       "<p>15000 rows × 12 columns</p>\n",
       "</div>"
      ],
      "text/plain": [
       "      sexo  posse_de_veiculo  posse_de_imovel  qtd_filhos        tipo_renda  \\\n",
       "0        F             False             True           0        Empresário   \n",
       "1        M              True             True           0       Assalariado   \n",
       "2        F              True             True           0        Empresário   \n",
       "3        F             False             True           1  Servidor público   \n",
       "4        M              True            False           0       Assalariado   \n",
       "...    ...               ...              ...         ...               ...   \n",
       "14995    F             False             True           0        Empresário   \n",
       "14996    F             False             True           0       Pensionista   \n",
       "14997    F              True             True           0       Assalariado   \n",
       "14998    M              True            False           0        Empresário   \n",
       "14999    F             False             True           2  Servidor público   \n",
       "\n",
       "                educacao estado_civil tipo_residencia  idade  tempo_emprego  \\\n",
       "0             Secundário     Solteiro            Casa     26       6.602740   \n",
       "1      Superior completo       Casado            Casa     28       7.183562   \n",
       "2      Superior completo       Casado            Casa     35       0.838356   \n",
       "3      Superior completo       Casado            Casa     30       4.846575   \n",
       "4             Secundário     Solteiro   Governamental     33       4.293151   \n",
       "...                  ...          ...             ...    ...            ...   \n",
       "14995         Secundário     Solteiro            Casa     48      13.887671   \n",
       "14996  Superior completo     Solteiro            Casa     57            NaN   \n",
       "14997  Superior completo       Casado            Casa     45       7.832877   \n",
       "14998  Superior completo       Casado            Casa     36       4.298630   \n",
       "14999         Secundário        União            Casa     34       7.219178   \n",
       "\n",
       "       qt_pessoas_residencia     renda  \n",
       "0                        1.0   8060.34  \n",
       "1                        2.0   1852.15  \n",
       "2                        2.0   2253.89  \n",
       "3                        3.0   6600.77  \n",
       "4                        1.0   6475.97  \n",
       "...                      ...       ...  \n",
       "14995                    1.0   7990.58  \n",
       "14996                    1.0  10093.45  \n",
       "14997                    2.0    604.82  \n",
       "14998                    2.0   3352.27  \n",
       "14999                    4.0   1160.99  \n",
       "\n",
       "[15000 rows x 12 columns]"
      ]
     },
     "execution_count": 231,
     "metadata": {},
     "output_type": "execute_result"
    }
   ],
   "source": [
    "drop = df[['Unnamed: 0','data_ref','id_cliente']]\n",
    "df = df.drop(drop, axis = 1)\n",
    "df"
   ]
  },
  {
   "cell_type": "code",
   "execution_count": 232,
   "metadata": {},
   "outputs": [
    {
     "data": {
      "text/plain": [
       "sexo                        0\n",
       "posse_de_veiculo            0\n",
       "posse_de_imovel             0\n",
       "qtd_filhos                  0\n",
       "tipo_renda                  0\n",
       "educacao                    0\n",
       "estado_civil                0\n",
       "tipo_residencia             0\n",
       "idade                       0\n",
       "tempo_emprego            2573\n",
       "qt_pessoas_residencia       0\n",
       "renda                       0\n",
       "dtype: int64"
      ]
     },
     "execution_count": 232,
     "metadata": {},
     "output_type": "execute_result"
    }
   ],
   "source": [
    "df.isnull().sum()"
   ]
  },
  {
   "cell_type": "code",
   "execution_count": 233,
   "metadata": {},
   "outputs": [],
   "source": [
    "df = df.dropna()"
   ]
  },
  {
   "cell_type": "code",
   "execution_count": 234,
   "metadata": {},
   "outputs": [],
   "source": [
    "df = df.drop_duplicates()"
   ]
  },
  {
   "cell_type": "code",
   "execution_count": 235,
   "metadata": {},
   "outputs": [],
   "source": [
    "df = df.reset_index(drop=True)"
   ]
  },
  {
   "cell_type": "code",
   "execution_count": 236,
   "metadata": {},
   "outputs": [
    {
     "name": "stdout",
     "output_type": "stream",
     "text": [
      "<class 'pandas.core.frame.DataFrame'>\n",
      "RangeIndex: 8655 entries, 0 to 8654\n",
      "Data columns (total 12 columns):\n",
      " #   Column                 Non-Null Count  Dtype  \n",
      "---  ------                 --------------  -----  \n",
      " 0   sexo                   8655 non-null   object \n",
      " 1   posse_de_veiculo       8655 non-null   bool   \n",
      " 2   posse_de_imovel        8655 non-null   bool   \n",
      " 3   qtd_filhos             8655 non-null   int64  \n",
      " 4   tipo_renda             8655 non-null   object \n",
      " 5   educacao               8655 non-null   object \n",
      " 6   estado_civil           8655 non-null   object \n",
      " 7   tipo_residencia        8655 non-null   object \n",
      " 8   idade                  8655 non-null   int64  \n",
      " 9   tempo_emprego          8655 non-null   float64\n",
      " 10  qt_pessoas_residencia  8655 non-null   float64\n",
      " 11  renda                  8655 non-null   float64\n",
      "dtypes: bool(2), float64(3), int64(2), object(5)\n",
      "memory usage: 693.2+ KB\n"
     ]
    }
   ],
   "source": [
    "df.info()"
   ]
  },
  {
   "cell_type": "markdown",
   "metadata": {},
   "source": [
    "1. Separe a base em treinamento e teste (25% para teste, 75% para treinamento).\n",
    "2. Rode uma regularização *ridge* com alpha = [0, 0.001, 0.005, 0.01, 0.05, 0.1] e avalie o $R^2$ na base de testes. Qual o melhor modelo?\n",
    "3. Faça o mesmo que no passo 2, com uma regressão *LASSO*. Qual método chega a um melhor resultado?\n",
    "4. Rode um modelo *stepwise*. Avalie o $R^2$ na base de testes. Qual o melhor resultado?\n",
    "5. Compare os parâmetros e avalie eventuais diferenças. Qual modelo você acha o melhor de todos?\n",
    "6. Partindo dos modelos que você ajustou, tente melhorar o $R^2$ na base de testes. Use a criatividade, veja se consegue inserir alguma transformação ou combinação de variáveis.\n",
    "7. Ajuste uma árvore de regressão e veja se consegue um $R^2$ melhor com ela."
   ]
  },
  {
   "cell_type": "markdown",
   "metadata": {},
   "source": [
    "**1. Separe a base em treinamento e teste (25% para teste, 75% para treinamento):**"
   ]
  },
  {
   "cell_type": "code",
   "execution_count": 237,
   "metadata": {},
   "outputs": [],
   "source": [
    "df_train, df_test = train_test_split(df, test_size=0.25, random_state=62)"
   ]
  },
  {
   "cell_type": "code",
   "execution_count": 238,
   "metadata": {},
   "outputs": [],
   "source": [
    "modelo = '''renda ~ C(sexo, Treatment(0)) \n",
    "            + C(posse_de_veiculo, Treatment(0))\n",
    "            + C(posse_de_imovel, Treatment(1)) \n",
    "            + qtd_filhos + C(tipo_renda, Treatment(0)) \n",
    "            + C(educacao, Treatment(2)) \n",
    "            + C(estado_civil, Treatment(0)) \n",
    "            + C(tipo_residencia, Treatment(1))\n",
    "            + idade + tempo_emprego + qt_pessoas_residencia'''"
   ]
  },
  {
   "cell_type": "code",
   "execution_count": 239,
   "metadata": {},
   "outputs": [],
   "source": [
    "y_train, X_train = patsy.dmatrices(modelo, df_train)\n",
    "y_test, X_test = patsy.dmatrices(modelo, df_test)"
   ]
  },
  {
   "cell_type": "markdown",
   "metadata": {},
   "source": [
    "<br>**2. Rode uma regularização *ridge* com alpha = [0, 0.001, 0.005, 0.01, 0.05, 0.1] e avalie o $R^2$ na base de testes. Qual o melhor modelo?**"
   ]
  },
  {
   "cell_type": "markdown",
   "metadata": {},
   "source": [
    "- A regressão **Lasso** utiliza uma penalização **L1**, na **configuração para Lasso(L1) = L1_wt=1.0.** No Lasso, a penalização é **capaz de zerar coeficientes**, levando à seleção de variáveis.<br><br>\n",
    "- A regressão **Ridge** utiliza uma penalização **L2**, na **configuração para Ridge(L2)= L1_wt=0.0.** No Ridge, ela apenas os reduz, **mantendo-os próximos de zero, mas raramente zerando-os.**\n"
   ]
  },
  {
   "cell_type": "code",
   "execution_count": 240,
   "metadata": {},
   "outputs": [
    {
     "name": "stdout",
     "output_type": "stream",
     "text": [
      "O melhor R² está definido como:\n"
     ]
    },
    {
     "data": {
      "text/html": [
       "<div>\n",
       "<style scoped>\n",
       "    .dataframe tbody tr th:only-of-type {\n",
       "        vertical-align: middle;\n",
       "    }\n",
       "\n",
       "    .dataframe tbody tr th {\n",
       "        vertical-align: top;\n",
       "    }\n",
       "\n",
       "    .dataframe thead th {\n",
       "        text-align: right;\n",
       "    }\n",
       "</style>\n",
       "<table border=\"1\" class=\"dataframe\">\n",
       "  <thead>\n",
       "    <tr style=\"text-align: right;\">\n",
       "      <th></th>\n",
       "      <th>alphas</th>\n",
       "      <th>𝑅2</th>\n",
       "    </tr>\n",
       "  </thead>\n",
       "  <tbody>\n",
       "    <tr>\n",
       "      <th>0</th>\n",
       "      <td>0.0</td>\n",
       "      <td>0.20941</td>\n",
       "    </tr>\n",
       "  </tbody>\n",
       "</table>\n",
       "</div>"
      ],
      "text/plain": [
       "   alphas       𝑅2\n",
       "0     0.0  0.20941"
      ]
     },
     "execution_count": 240,
     "metadata": {},
     "output_type": "execute_result"
    }
   ],
   "source": [
    "# Ridge L1_wt=0.0\n",
    "r_quad_pred = []\n",
    "alphas = [0,0.001, 0.005, 0.01, 0.05, 0.1]\n",
    "\n",
    "for alpha in alphas:\n",
    "    md = sm.OLS(y_train, X_train)\n",
    "    reg = md.fit_regularized(method='elastic_net', \n",
    "                             refit=True, \n",
    "                             L1_wt=0,\n",
    "                             alpha=alpha)\n",
    "    y_predito = reg.predict(X_test)\n",
    "    r_quad = r2_score(y_test, y_predito)\n",
    "    r_quad_pred.append(r_quad)\n",
    "    \n",
    "print('O melhor R² está definido como:')        \n",
    "pd.DataFrame({'alphas':alphas, \n",
    "              '𝑅2':r_quad_pred}).sort_values(by='𝑅2',\n",
    "                                             ascending=False).head(1)"
   ]
  },
  {
   "cell_type": "markdown",
   "metadata": {},
   "source": [
    "<br>**3. Faça o mesmo que no passo 2, com uma regressão LASSO. Qual método chega a um melhor resultado?**"
   ]
  },
  {
   "cell_type": "code",
   "execution_count": 241,
   "metadata": {},
   "outputs": [
    {
     "name": "stdout",
     "output_type": "stream",
     "text": [
      "O melhor R² está definido como:\n"
     ]
    },
    {
     "data": {
      "text/html": [
       "<div>\n",
       "<style scoped>\n",
       "    .dataframe tbody tr th:only-of-type {\n",
       "        vertical-align: middle;\n",
       "    }\n",
       "\n",
       "    .dataframe tbody tr th {\n",
       "        vertical-align: top;\n",
       "    }\n",
       "\n",
       "    .dataframe thead th {\n",
       "        text-align: right;\n",
       "    }\n",
       "</style>\n",
       "<table border=\"1\" class=\"dataframe\">\n",
       "  <thead>\n",
       "    <tr style=\"text-align: right;\">\n",
       "      <th></th>\n",
       "      <th>alphas</th>\n",
       "      <th>𝑅2</th>\n",
       "    </tr>\n",
       "  </thead>\n",
       "  <tbody>\n",
       "    <tr>\n",
       "      <th>4</th>\n",
       "      <td>0.05</td>\n",
       "      <td>0.209458</td>\n",
       "    </tr>\n",
       "  </tbody>\n",
       "</table>\n",
       "</div>"
      ],
      "text/plain": [
       "   alphas        𝑅2\n",
       "4    0.05  0.209458"
      ]
     },
     "execution_count": 241,
     "metadata": {},
     "output_type": "execute_result"
    }
   ],
   "source": [
    "# LASSO L1_wt=1\n",
    "r_quad_pred = []\n",
    "alphas = [0,0.001, 0.005, 0.01, 0.05, 0.1]\n",
    "\n",
    "for alpha in alphas:\n",
    "    md = sm.OLS(y_train, X_train)\n",
    "    reg = md.fit_regularized(method='elastic_net', \n",
    "                             refit=True, \n",
    "                             L1_wt=1,\n",
    "                             alpha=alpha)\n",
    "    y_predito = reg.predict(X_test)\n",
    "    r_quad = r2_score(y_test, y_predito)\n",
    "    r_quad_pred.append(r_quad)\n",
    "    \n",
    "print('O melhor R² está definido como:')        \n",
    "pd.DataFrame({'alphas':alphas, \n",
    "              '𝑅2':r_quad_pred}).sort_values(by='𝑅2',\n",
    "                                             ascending=False).head(1)"
   ]
  },
  {
   "cell_type": "markdown",
   "metadata": {},
   "source": [
    "<br>**4. Rode um modelo stepwise. Avalie o R²\n",
    " na base de testes. Qual o melhor resultado**?"
   ]
  },
  {
   "cell_type": "code",
   "execution_count": 242,
   "metadata": {},
   "outputs": [],
   "source": [
    "df_dummies = pd.get_dummies(df, drop_first=True).astype(int)\n",
    "X = df_dummies.drop('renda', axis=1)\n",
    "y = df_dummies['renda']\n",
    "\n",
    "X_train, X_test, y_train, y_test = train_test_split(X, y, test_size=0.25, random_state=62)"
   ]
  },
  {
   "cell_type": "code",
   "execution_count": 243,
   "metadata": {},
   "outputs": [
    {
     "name": "stdout",
     "output_type": "stream",
     "text": [
      "Add  tempo_emprego                  with p-value 1.46071e-65\n",
      "#############\n",
      "['tempo_emprego']\n",
      "Add  sexo_M                         with p-value 1.37624e-50\n",
      "#############\n",
      "['tempo_emprego', 'sexo_M']\n",
      "Add  idade                          with p-value 0.00215938\n",
      "#############\n",
      "['tempo_emprego', 'sexo_M', 'idade']\n",
      "Add  tipo_renda_Empresário          with p-value 0.0165505\n",
      "#############\n",
      "['tempo_emprego', 'sexo_M', 'idade', 'tipo_renda_Empresário']\n",
      "#############\n",
      "['tempo_emprego', 'sexo_M', 'idade', 'tipo_renda_Empresário']\n",
      "\n",
      "\n",
      "resulting features:\n",
      "['tempo_emprego', 'sexo_M', 'idade', 'tipo_renda_Empresário']\n"
     ]
    }
   ],
   "source": [
    "def stepwise_selection(X, y, \n",
    "                       initial_list=[], \n",
    "                       threshold_in=0.05, \n",
    "                       threshold_out = 0.05, \n",
    "                       verbose=True):\n",
    "    \"\"\" Perform a forward-backward feature selection \n",
    "    based on p-value from statsmodels.api.OLS\n",
    "    Arguments:\n",
    "        X - pandas.DataFrame with candidate features\n",
    "        y - list-like with the target\n",
    "        initial_list - list of features to start with (column names of X)\n",
    "        threshold_in - include a feature if its p-value < threshold_in\n",
    "        threshold_out - exclude a feature if its p-value > threshold_out\n",
    "        verbose - whether to print the sequence of inclusions and exclusions\n",
    "    Returns: list of selected features \n",
    "    Always set threshold_in < threshold_out to avoid infinite looping.\n",
    "    See https://en.wikipedia.org/wiki/Stepwise_regression for the details\n",
    "    \"\"\"\n",
    "    included = list(initial_list)\n",
    "    while True:\n",
    "        changed=False\n",
    "        \n",
    "        # forward step\n",
    "        excluded = list(set(X.columns)-set(included))\n",
    "        new_pval = pd.Series(index=excluded, dtype=np.dtype('float64'))\n",
    "        for new_column in excluded:\n",
    "            model = sm.OLS(y, sm.add_constant(pd.DataFrame(X[included+[new_column]]))).fit()\n",
    "            new_pval[new_column] = model.pvalues[new_column]\n",
    "        best_pval = new_pval.min()\n",
    "        if best_pval < threshold_in:\n",
    "            best_feature = new_pval.index[new_pval.argmin()]\n",
    "            included.append(best_feature)\n",
    "            changed=True\n",
    "            if verbose:\n",
    "                 print('Add  {:30} with p-value {:.6}'.format(best_feature, best_pval))\n",
    "\n",
    "        # backward step\n",
    "        print(\"#############\")\n",
    "        print(included)\n",
    "        model = sm.OLS(y, sm.add_constant(pd.DataFrame(X[included]))).fit()\n",
    "        # use all coefs except intercept\n",
    "        pvalues = model.pvalues.iloc[1:]\n",
    "        worst_pval = pvalues.max() # null if pvalues is empty\n",
    "        if worst_pval > threshold_out:\n",
    "            changed=True\n",
    "            worst_feature = pvalues.argmax()\n",
    "            included.remove(worst_feature)\n",
    "            if verbose:\n",
    "                print('Drop {:30} with p-value {:.6}'.format(worst_feature, worst_pval))\n",
    "        if not changed:\n",
    "            break\n",
    "    return included\n",
    "\n",
    "variaveis = stepwise_selection(X_test, y_test)\n",
    "\n",
    "print('\\n\\nresulting features:')\n",
    "print(variaveis)"
   ]
  },
  {
   "cell_type": "code",
   "execution_count": 244,
   "metadata": {},
   "outputs": [
    {
     "name": "stdout",
     "output_type": "stream",
     "text": [
      "R²: 0.21\n"
     ]
    }
   ],
   "source": [
    "X = df_dummies[variaveis]\n",
    "y = df_dummies['renda']\n",
    "X_train, X_test, y_train, y_test = train_test_split(X, y, test_size=0.25, random_state=62)\n",
    "\n",
    "md = sm.OLS(y_train, X_train)\n",
    "reg = md.fit()\n",
    "y_pred=reg.predict(X_test)\n",
    "r_quad=r2_score(y_test, y_pred)\n",
    "\n",
    "print('R²:', round(r_quad, 2))"
   ]
  },
  {
   "cell_type": "code",
   "execution_count": 245,
   "metadata": {},
   "outputs": [
    {
     "name": "stdout",
     "output_type": "stream",
     "text": [
      "O melhor R² está definido como:\n"
     ]
    },
    {
     "data": {
      "text/html": [
       "<div>\n",
       "<style scoped>\n",
       "    .dataframe tbody tr th:only-of-type {\n",
       "        vertical-align: middle;\n",
       "    }\n",
       "\n",
       "    .dataframe tbody tr th {\n",
       "        vertical-align: top;\n",
       "    }\n",
       "\n",
       "    .dataframe thead th {\n",
       "        text-align: right;\n",
       "    }\n",
       "</style>\n",
       "<table border=\"1\" class=\"dataframe\">\n",
       "  <thead>\n",
       "    <tr style=\"text-align: right;\">\n",
       "      <th></th>\n",
       "      <th>alphas</th>\n",
       "      <th>𝑅2</th>\n",
       "    </tr>\n",
       "  </thead>\n",
       "  <tbody>\n",
       "    <tr>\n",
       "      <th>0</th>\n",
       "      <td>0.000</td>\n",
       "      <td>0.205934</td>\n",
       "    </tr>\n",
       "    <tr>\n",
       "      <th>1</th>\n",
       "      <td>0.001</td>\n",
       "      <td>0.205858</td>\n",
       "    </tr>\n",
       "    <tr>\n",
       "      <th>2</th>\n",
       "      <td>0.005</td>\n",
       "      <td>0.205537</td>\n",
       "    </tr>\n",
       "    <tr>\n",
       "      <th>3</th>\n",
       "      <td>0.010</td>\n",
       "      <td>0.205105</td>\n",
       "    </tr>\n",
       "    <tr>\n",
       "      <th>4</th>\n",
       "      <td>0.050</td>\n",
       "      <td>0.200892</td>\n",
       "    </tr>\n",
       "    <tr>\n",
       "      <th>5</th>\n",
       "      <td>0.100</td>\n",
       "      <td>0.195002</td>\n",
       "    </tr>\n",
       "  </tbody>\n",
       "</table>\n",
       "</div>"
      ],
      "text/plain": [
       "   alphas        𝑅2\n",
       "0   0.000  0.205934\n",
       "1   0.001  0.205858\n",
       "2   0.005  0.205537\n",
       "3   0.010  0.205105\n",
       "4   0.050  0.200892\n",
       "5   0.100  0.195002"
      ]
     },
     "execution_count": 245,
     "metadata": {},
     "output_type": "execute_result"
    }
   ],
   "source": [
    "# Ridge L1_wt=0.0\n",
    "r_quad_pred = []\n",
    "alphas = [0,0.001, 0.005, 0.01, 0.05, 0.1]\n",
    "\n",
    "for alpha in alphas:\n",
    "    md = sm.OLS(y_train, X_train)\n",
    "    reg = md.fit_regularized(method='elastic_net', \n",
    "                             refit=True, \n",
    "                             L1_wt=0,\n",
    "                             alpha=alpha)\n",
    "    y_predito = reg.predict(X_test)\n",
    "    r_quad = r2_score(y_test, y_predito)\n",
    "    r_quad_pred.append(r_quad)\n",
    "    \n",
    "print('O melhor R² está definido como:')        \n",
    "pd.DataFrame({'alphas':alphas, \n",
    "              '𝑅2':r_quad_pred}).sort_values(by='𝑅2',\n",
    "                                             ascending=False)"
   ]
  },
  {
   "cell_type": "code",
   "execution_count": 246,
   "metadata": {},
   "outputs": [
    {
     "name": "stdout",
     "output_type": "stream",
     "text": [
      "O melhor R² está definido como:\n"
     ]
    },
    {
     "data": {
      "text/html": [
       "<div>\n",
       "<style scoped>\n",
       "    .dataframe tbody tr th:only-of-type {\n",
       "        vertical-align: middle;\n",
       "    }\n",
       "\n",
       "    .dataframe tbody tr th {\n",
       "        vertical-align: top;\n",
       "    }\n",
       "\n",
       "    .dataframe thead th {\n",
       "        text-align: right;\n",
       "    }\n",
       "</style>\n",
       "<table border=\"1\" class=\"dataframe\">\n",
       "  <thead>\n",
       "    <tr style=\"text-align: right;\">\n",
       "      <th></th>\n",
       "      <th>alphas</th>\n",
       "      <th>𝑅2</th>\n",
       "    </tr>\n",
       "  </thead>\n",
       "  <tbody>\n",
       "    <tr>\n",
       "      <th>0</th>\n",
       "      <td>0.000</td>\n",
       "      <td>0.205934</td>\n",
       "    </tr>\n",
       "    <tr>\n",
       "      <th>1</th>\n",
       "      <td>0.001</td>\n",
       "      <td>0.205934</td>\n",
       "    </tr>\n",
       "    <tr>\n",
       "      <th>2</th>\n",
       "      <td>0.005</td>\n",
       "      <td>0.205934</td>\n",
       "    </tr>\n",
       "    <tr>\n",
       "      <th>3</th>\n",
       "      <td>0.010</td>\n",
       "      <td>0.205934</td>\n",
       "    </tr>\n",
       "    <tr>\n",
       "      <th>4</th>\n",
       "      <td>0.050</td>\n",
       "      <td>0.205934</td>\n",
       "    </tr>\n",
       "    <tr>\n",
       "      <th>5</th>\n",
       "      <td>0.100</td>\n",
       "      <td>0.205934</td>\n",
       "    </tr>\n",
       "  </tbody>\n",
       "</table>\n",
       "</div>"
      ],
      "text/plain": [
       "   alphas        𝑅2\n",
       "0   0.000  0.205934\n",
       "1   0.001  0.205934\n",
       "2   0.005  0.205934\n",
       "3   0.010  0.205934\n",
       "4   0.050  0.205934\n",
       "5   0.100  0.205934"
      ]
     },
     "execution_count": 246,
     "metadata": {},
     "output_type": "execute_result"
    }
   ],
   "source": [
    "# LASSO L1_wt=1\n",
    "r_quad_pred = []\n",
    "alphas = [0,0.001, 0.005, 0.01, 0.05, 0.1]\n",
    "\n",
    "for alpha in alphas:\n",
    "    md = sm.OLS(y_train, X_train)\n",
    "    reg = md.fit_regularized(method='elastic_net', \n",
    "                             refit=True, \n",
    "                             L1_wt=1,\n",
    "                             alpha=alpha)\n",
    "    y_predito = reg.predict(X_test)\n",
    "    r_quad = r2_score(y_test, y_predito)\n",
    "    r_quad_pred.append(r_quad)\n",
    "    \n",
    "print('O melhor R² está definido como:')        \n",
    "pd.DataFrame({'alphas':alphas, \n",
    "              '𝑅2':r_quad_pred}).sort_values(by='𝑅2',\n",
    "                                             ascending=False)"
   ]
  },
  {
   "cell_type": "markdown",
   "metadata": {},
   "source": [
    "- O modelo stepwise com regressão LASSO teve o melhor desempenho, alcançando resultados consistentes e equilibrados em todos os diferentes valores de alpha em relação ao R²."
   ]
  },
  {
   "cell_type": "markdown",
   "metadata": {},
   "source": [
    "<br>**5. Compare os parâmetros e avalie eventuais diferenças. Qual modelo você acha o melhor de todos?**"
   ]
  },
  {
   "cell_type": "markdown",
   "metadata": {},
   "source": [
    "- O modelo stepwise com regressão LASSO foi sem dúvidas a melhor opção, podemos verificar que mesmo com número de colunas inferior aos demais modelos treinados inicialmente obteve um valor de R² equilibrado para o modelo."
   ]
  },
  {
   "cell_type": "markdown",
   "metadata": {},
   "source": [
    "<br>**6. Partindo dos modelos que você ajustou, tente melhorar o R² na base de testes. Use a criatividade, veja se consegue inserir alguma transformação ou combinação de variáveis.**"
   ]
  },
  {
   "cell_type": "code",
   "execution_count": 247,
   "metadata": {},
   "outputs": [
    {
     "name": "stdout",
     "output_type": "stream",
     "text": [
      "                            OLS Regression Results                            \n",
      "==============================================================================\n",
      "Dep. Variable:          np.log(renda)   R-squared:                       0.357\n",
      "Model:                            OLS   Adj. R-squared:                  0.356\n",
      "Method:                 Least Squares   F-statistic:                     719.7\n",
      "Date:                Tue, 12 Dec 2023   Prob (F-statistic):               0.00\n",
      "Time:                        16:05:24   Log-Likelihood:                -7062.6\n",
      "No. Observations:                6491   AIC:                         1.414e+04\n",
      "Df Residuals:                    6486   BIC:                         1.418e+04\n",
      "Df Model:                           5                                         \n",
      "Covariance Type:            nonrobust                                         \n",
      "=========================================================================================\n",
      "                            coef    std err          t      P>|t|      [0.025      0.975]\n",
      "-----------------------------------------------------------------------------------------\n",
      "Intercept                 7.2920      0.042    172.193      0.000       7.209       7.375\n",
      "tempo_emprego             0.0616      0.001     43.483      0.000       0.059       0.064\n",
      "sexo_M                    0.8170      0.019     43.389      0.000       0.780       0.854\n",
      "idade                     0.0046      0.001      4.571      0.000       0.003       0.007\n",
      "tipo_renda_Empresário     0.1312      0.020      6.561      0.000       0.092       0.170\n",
      "==============================================================================\n",
      "Omnibus:                        1.845   Durbin-Watson:                   2.002\n",
      "Prob(Omnibus):                  0.397   Jarque-Bera (JB):                1.857\n",
      "Skew:                           0.025   Prob(JB):                        0.395\n",
      "Kurtosis:                       2.933   Cond. No.                         205.\n",
      "==============================================================================\n",
      "\n",
      "Notes:\n",
      "[1] Standard Errors assume that the covariance matrix of the errors is correctly specified.\n"
     ]
    }
   ],
   "source": [
    "df_data = pd.get_dummies(df, drop_first=True).astype(int)\n",
    "df_data = df_data[['tempo_emprego', 'sexo_M', 'idade', 'tipo_renda_Empresário', 'renda']]\n",
    "\n",
    "data_train, data_test = train_test_split(df_data, test_size=0.25, random_state=62)\n",
    "\n",
    "modelo = smf.ols('''np.log(renda) ~ tempo_emprego \n",
    "                                    + sexo_M \n",
    "                                    + idade \n",
    "                                    + tipo_renda_Empresário'''\n",
    "                 , data_train)\n",
    "\n",
    "reg = modelo.fit_regularized(method='elastic_net', \n",
    "                             refit=True, \n",
    "                             L1_wt=1,\n",
    "                             alpha=0)\n",
    "\n",
    "print(reg.summary())"
   ]
  },
  {
   "cell_type": "code",
   "execution_count": 248,
   "metadata": {},
   "outputs": [
    {
     "name": "stdout",
     "output_type": "stream",
     "text": [
      "R²- base teste: 0.26\n"
     ]
    }
   ],
   "source": [
    "y_pred = reg.predict(data_test)\n",
    "r_quad = r2_score(data_test['renda'], np.exp(y_pred))\n",
    "\n",
    "print('R²- base teste:', round(r_quad, 2))"
   ]
  },
  {
   "cell_type": "markdown",
   "metadata": {},
   "source": [
    "<br>**7. Ajuste uma árvore de regressão e veja se consegue um R² melhor com ela.**."
   ]
  },
  {
   "cell_type": "code",
   "execution_count": 266,
   "metadata": {},
   "outputs": [],
   "source": [
    "y = df_data[['renda']]\n",
    "X = df_data[['tempo_emprego','sexo_M', 'idade', 'tipo_renda_Empresário']]"
   ]
  },
  {
   "cell_type": "code",
   "execution_count": 267,
   "metadata": {},
   "outputs": [],
   "source": [
    "X_train, X_test, y_train, y_test = train_test_split(X, y, test_size=0.25, random_state=62)\n",
    "\n",
    "reg = DecisionTreeRegressor(random_state=62, max_depth=5, min_samples_leaf=10)\n",
    "reg.fit(X_train, y_train)\n",
    "r = reg.score(X_test, y_test)"
   ]
  },
  {
   "cell_type": "code",
   "execution_count": 269,
   "metadata": {},
   "outputs": [
    {
     "name": "stdout",
     "output_type": "stream",
     "text": [
      "R²- base teste: 0.45\n"
     ]
    }
   ],
   "source": [
    "print('R²- base teste:', round(r,2))"
   ]
  }
 ],
 "metadata": {
  "kernelspec": {
   "display_name": "Python 3 (ipykernel)",
   "language": "python",
   "name": "python3"
  },
  "language_info": {
   "codemirror_mode": {
    "name": "ipython",
    "version": 3
   },
   "file_extension": ".py",
   "mimetype": "text/x-python",
   "name": "python",
   "nbconvert_exporter": "python",
   "pygments_lexer": "ipython3",
   "version": "3.11.5"
  }
 },
 "nbformat": 4,
 "nbformat_minor": 4
}
