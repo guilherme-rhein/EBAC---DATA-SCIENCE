{
 "cells": [
  {
   "cell_type": "markdown",
   "id": "b8e02625-bc57-40b0-970e-92b0c41297e8",
   "metadata": {},
   "source": [
    "---\n",
    "\n",
    "<!-- # **Profissão: Cientista de Dados** -->\n",
    "### Combinação de modelos I - Random Forest | Exercício 3\n",
    "\n",
    "**Aluno:** Guilherme Rhein<br>\n",
    "\n",
    "---"
   ]
  },
  {
   "cell_type": "markdown",
   "id": "d7a0d4e5-6e48-4091-be86-07b7ac859bf6",
   "metadata": {},
   "source": [
    "# Tarefa 03"
   ]
  },
  {
   "cell_type": "markdown",
   "id": "92852744-0938-4a48-aee7-a79eccc4a7ca",
   "metadata": {},
   "source": [
    "**1. Quais são os parâmetros do Random Forest?**"
   ]
  },
  {
   "cell_type": "markdown",
   "id": "5dfa8c00-bc69-4a14-aa54-0fc1208d0767",
   "metadata": {},
   "source": [
    "> Os Parâmetros do ***Random Forest***:\n",
    ">\n",
    "> - n_estimators\n",
    "> - criterion\n",
    "> - max_depth\n",
    "> - min_samples_split\n",
    "> - min_samples_leaf\n",
    "> - min_weight_fraction_leaf\n",
    "> - max_features\n",
    "> - max_leaf_nodes\n",
    "> - min_impurity_decrease\n",
    "> - bootstrap\n",
    "> - oob_score\n",
    "> - n_jobs\n",
    "> - random_state\n",
    "> - verbose\n",
    "> - warm_start\n",
    "> - class_weight\n",
    "> - ccp_alpha\n",
    "> - max_samples"
   ]
  },
  {
   "cell_type": "markdown",
   "id": "5ff7a98b-19df-4381-815a-b9eb7eb639a8",
   "metadata": {},
   "source": [
    "<br>**2. Defina cada parâmetro, esclarecendo a função de cada um deles:**"
   ]
  },
  {
   "cell_type": "markdown",
   "id": "fc212c60-f9bd-448e-ba2e-7a8e8a411331",
   "metadata": {},
   "source": [
    "> - ***n_estimators:*** Número de árvores na floresta para o modelo -> ```int, default=100```.\n",
    "> - ***criterion:*** Métrica para avaliar a qualidade de uma divisão -> ```{“gini”, “entropy”, “log_loss”}, default=”gini```.\n",
    "> - ***max_depth:*** Definir o limite para profundidade máxima da árvore -> ```int, default=None```.\n",
    "> - ***min_samples_split:*** O número mínimo de amostras necessárias para dividir um nó interno -> ```int or float, default=2```.\n",
    "     - Se for ```int```, considere ```min_samples_split``` como o número mínimo.\n",
    "     - Se for ```float```, então ```min_samples_split``` é uma fração e é o número mínimo de amostras para cada divisão```.ceil(min_samples_split * n_samples)```.   \n",
    "> - ***min_samples_leaf:*** Número mínimo de amostras para estar em um nó folha, isto pode ter o efeito de suavizar o modelo, especialmente na regressão -> ```int or float, default=1```.\n",
    "     - Se for ```int```, considere ```min_samples_leaf``` como o número mínimo.\n",
    "     - Se for ```float```, então ```min_samples_leaf``` é uma fração e é o número mínimo de amostras para cada nó```.ceil(min_samples_leaf * n_samples)```.\n",
    "> - ***min_weight_fraction_leaf:*** Número decimal para definir valor o \"peso\" (importância) mínimo necessário de uma folha. As amostras têm peso igual quando ***sample_weight*** não é fornecido -> ```float, default=0.0```.\n",
    "> - ***max_features:*** Número máximo de variáveis (*feature selection*) ao buscar a melhor divisão -> ```{“sqrt”, “log2”, None}, int or float, default=”sqrt”```.\n",
    "     - Se for ```int```, considere ```max_features``` os recursos em cada divisão.\n",
    "     - Se ```float```, então ```max_features``` é uma fração e os recursos são considerados em cada divisão ```.max(1, int(max_features * n_features_in_))```.\n",
    "     - Se ```sqrt```, então ```max_features=sqrt(n_features)```.\n",
    "     - Se ```log2```, então ```max_features=log2(n_features)```.\n",
    "     - Se ```nenhum```, então ```max_features=n_features```.\n",
    ">    - Nota: a busca por uma divisão não para até que pelo menos uma partição válida das amostras do nó seja encontrada, mesmo que seja necessária a inspeção efetiva passando por cima de ```max_features```.\n",
    "> - ***max_leaf_nodes:*** Os melhores nós são definidos como redução relativa de impurezas. Se Nenhum, então um número ilimitado de nós folha. Definição do número máximo de nós na árvore -> ```int, default=None```.\n",
    "árvore;\n",
    "> - ***min_impurity_decrease:*** Valor mínimo de redução da impureza que define se haverá divisão do nó de acordo com a métrica utilizada -> ```float, default=0.0```.\n",
    "> - ***bootstrap:*** Aplica-se o método *Bootstrap* -> ```bool, default=True```.\n",
    "> - ***oob_score:*** Aplica-se o método *out-of-bag* caso *Bootstrap* também estiver em uso, ```.metric(y_true, y_pred)bootstrap=True``` -> ```bool or callable, default=False```.\n",
    "> - ***n_jobs:*** Número de processos que podem ser executados em paralelo: ```fit```, ```predict```, ```decision_path``` e ```apply``` estão todos paralelizados nas árvores. ```None``` significa ```1```, a menos que esteja em um ```joblib.parallel_backend```. ```-1``` significa usar todos os processadores -> ```int, default=None```.\n",
    "> - ***random_state:*** Controla a aleatoriedade dos métodos *Bootstrap* ```(quando bootstrap=True)``` e a amostragem dos recursos a serem considerados ao procurar a melhor divisão em cada nó *feature selection* possibilitando a reprodução dos mesmos resultados do modelo -> ```int, RandomState instance or None, default=None```.\n",
    "> - ***verbose:*** Controla o detalhamento das mensagens nos processos de treino e previsão do modelo -> ```int, default=0```.\n",
    "> - ***warm_start:*** Possibilita a reutilização do treino anterior adicionando mais árvores ao modelo -> ```bool, default=False```.\n",
    "> - ***class_weight:*** Define o peso de cada classe (Se não for fornecido, todas as classes deverão ter peso um), possibilitando equilíbrio proporcional entre elas -> ```{“balanced”, “balanced_subsample”}, dict or list of dicts, default=None```.\n",
    "> - ***ccp_alpha:*** Parâmetro de complexidade usado para controlar a pós-poda da árvore para remoção de custo mínimo-complexidade. Quanto maior o valor, maior será a poda -> ```non-negative float, default=0.0```.\n",
    "> - ***max_samples:*** Número máximo de amostras para treinar o modelo, se o método *Bootstrap* estiver sendo utilizado. -> ```int or float, default=None```.\n",
    "     - Se ```None (padrão)```, extraia ```X.shape[0]``` amostras.\n",
    "     - Se ```int```, extraia ```max_samples``` amostras.\n",
    "     - Se ```float```, retire ```max(round(n_samples * max_samples), 1)``` amostras. Assim, ]```max_samples]``` deve estar no intervalo (0.0, 1.0]"
   ]
  },
  {
   "cell_type": "markdown",
   "id": "eea503a4-4383-4eac-a63e-2e38ead2a58c",
   "metadata": {},
   "source": [
    "> Exemplo:"
   ]
  },
  {
   "cell_type": "code",
   "execution_count": 2,
   "id": "360c0c04-c1cc-4832-a678-ea4b720fe0a8",
   "metadata": {},
   "outputs": [
    {
     "name": "stdout",
     "output_type": "stream",
     "text": [
      "[1]\n"
     ]
    }
   ],
   "source": [
    "from sklearn.ensemble import RandomForestClassifier\r\n",
    "from sklearn.datasets import make_classification\r\n",
    "\r\n",
    "X, y = make_classification(n_samples=1000, n_features=4,\r\n",
    "                           n_informative=2, n_redundant=0,\r\n",
    "                           random_state=0, shuffle=False)\r\n",
    "\r\n",
    "clf = RandomForestClassifier(max_depth=2, random_state=0)\r\n",
    "clf.fit(X, y)\r\n",
    "\r\n",
    "print(clf.predict([[0, 0, 0, 0]]))\r\n"
   ]
  }
 ],
 "metadata": {
  "kernelspec": {
   "display_name": "Python 3 (ipykernel)",
   "language": "python",
   "name": "python3"
  },
  "language_info": {
   "codemirror_mode": {
    "name": "ipython",
    "version": 3
   },
   "file_extension": ".py",
   "mimetype": "text/x-python",
   "name": "python",
   "nbconvert_exporter": "python",
   "pygments_lexer": "ipython3",
   "version": "3.11.5"
  }
 },
 "nbformat": 4,
 "nbformat_minor": 5
}
