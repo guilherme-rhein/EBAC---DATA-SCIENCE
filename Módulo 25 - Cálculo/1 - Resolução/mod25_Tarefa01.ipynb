{
 "cells": [
  {
   "cell_type": "markdown",
   "metadata": {},
   "source": [
    "---\n",
    "\n",
    "# **Cálculo | Exercício 1**\n",
    "\n",
    "**Aluno:** Guilherme Rhein\n",
    "\n",
    "---"
   ]
  },
  {
   "cell_type": "markdown",
   "metadata": {},
   "source": [
    "## Cálculo - Tarefa 01\n",
    "\n",
    "1. Marque quais desses métodos/algoritmos muito populares em ciência de dados são baseados no uso de derivada:\n",
    "\n",
    "    1. Método Mínimos Quadrados\n",
    "    2. Gradiente descendente\n",
    "    3. Newton Raphson\n",
    "    4. CART (Árvore de decisão)"
   ]
  },
  {
   "cell_type": "markdown",
   "metadata": {},
   "source": [
    "> Podemos citar os algoritmos que utilizam derivadas para solução do problema: **Gradiente Descendente** e **Newton-Raphson**.\n",
    ">\n",
    "> **1. Método Mínimos Quadrados:** O Método dos Mínimos Quadrados (MMQ) é uma técnica estatística utilizada para encontrar a melhor aproximação linear entre um conjunto de dados. O Método é amplamente utilizado em análise de dados e regressão para encontrar a melhor reta de ajuste para um conjunto de pontos, proporcionando uma abordagem sistemática para lidar com erros nos dados e encontrar uma representação linear que minimize a discrepância entre os dados observados e os valores previstos pelo modelo.\n",
    ">\n",
    "> **2. Gradiente Descendente:** O Gradiente Descendente é um algoritmo de otimização usado para encontrar o mínimo de uma função utilizando derivada. Especificamente, é amplamente empregado em problemas de otimização em aprendizado de máquina e redes neurais para ajustar os parâmetros do modelo de forma a minimizar uma função de custo.\n",
    ">\n",
    "> **3. Newton Raphson:** O Método de Newton-Raphson, também conhecido como Método Newtoniano ou Método da Secante, é um algoritmo iterativo utilizado para encontrar raízes de uma função real utilizando derivada. Este método é amplamente utilizado em análise numérica e otimização\n",
    ">\n",
    "> **3. Cart - Árvore de decisão:** CART é um algoritmo utilizado para construir árvores de decisão tanto para tarefas de classificação quanto de regressão. O método divide o conjunto de dados com base nas variáveis preditoras, buscando criar segmentos (nós) que são mais homogêneos em termos de resposta.\n"
   ]
  },
  {
   "cell_type": "markdown",
   "metadata": {},
   "source": [
    "2. Dada uma base de dados com uma variável resposta $y$ e um conjunto de variáveis explicativas. Considere uma estrutura de um modelo de regressão. Explique com suas palavras por que não é possível obter parâmetros que forneçam um erro quadrático médio (EQM) menor que o obtido com estimadores de mínimos quadrados."
   ]
  },
  {
   "cell_type": "markdown",
   "metadata": {},
   "source": [
    "> O Método dos Mínimos Quadrados foi construído para encontrar os melhores estimadores dos parâmetros em um modelo de regressão linear, minimizando a soma dos quadrados dos resíduos. Qualquer outra abordagem provavelmente resultará em um EQM igual ou maior, visto que o MMQ fornece a solução que minimiza esse erro específico para o modelo linear. Isso ocorre porque ao tentar forçar o ajuste com outros parâmetros, o modelo poderia sofrer um problema de overfitting. "
   ]
  }
 ],
 "metadata": {
  "kernelspec": {
   "display_name": "Python 3 (ipykernel)",
   "language": "python",
   "name": "python3"
  },
  "language_info": {
   "codemirror_mode": {
    "name": "ipython",
    "version": 3
   },
   "file_extension": ".py",
   "mimetype": "text/x-python",
   "name": "python",
   "nbconvert_exporter": "python",
   "pygments_lexer": "ipython3",
   "version": "3.11.5"
  },
  "toc": {
   "base_numbering": 1,
   "nav_menu": {},
   "number_sections": true,
   "sideBar": true,
   "skip_h1_title": true,
   "title_cell": "Índice",
   "title_sidebar": "Conteúdo",
   "toc_cell": false,
   "toc_position": {},
   "toc_section_display": true,
   "toc_window_display": false
  },
  "varInspector": {
   "cols": {
    "lenName": 16,
    "lenType": 16,
    "lenVar": 40
   },
   "kernels_config": {
    "python": {
     "delete_cmd_postfix": "",
     "delete_cmd_prefix": "del ",
     "library": "var_list.py",
     "varRefreshCmd": "print(var_dic_list())"
    },
    "r": {
     "delete_cmd_postfix": ") ",
     "delete_cmd_prefix": "rm(",
     "library": "var_list.r",
     "varRefreshCmd": "cat(var_dic_list()) "
    }
   },
   "types_to_exclude": [
    "module",
    "function",
    "builtin_function_or_method",
    "instance",
    "_Feature"
   ],
   "window_display": false
  }
 },
 "nbformat": 4,
 "nbformat_minor": 4
}
